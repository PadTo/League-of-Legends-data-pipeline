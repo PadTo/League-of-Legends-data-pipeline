{
 "cells": [
  {
   "cell_type": "code",
   "execution_count": null,
   "metadata": {},
   "outputs": [],
   "source": [
    "from pathlib import Path\n",
    "import sqlite3\n",
    "\n",
    "path_to_db = \"D:/LoL Analysis Project/data/riot_data_database.db\"\n",
    "path_to_db\n",
    "\n",
    "abs_path = Path(path_to_db)\n",
    "abs_path\n",
    "\n",
    "\n",
    "with sqlite3.connect(abs_path) as connection:\n",
    "  cursor = connection.cursor()\n",
    "\n",
    "  fetch_query = '''\n",
    "        DROP TABLE IF EXISTS datePlayed'''\n",
    "  \n",
    "  data = cursor.execute(fetch_query)\n",
    "  connection.commit()"
   ]
  }
 ],
 "metadata": {
  "kernelspec": {
   "display_name": "base",
   "language": "python",
   "name": "python3"
  },
  "language_info": {
   "codemirror_mode": {
    "name": "ipython",
    "version": 3
   },
   "file_extension": ".py",
   "mimetype": "text/x-python",
   "name": "python",
   "nbconvert_exporter": "python",
   "pygments_lexer": "ipython3",
   "version": "3.11.5"
  }
 },
 "nbformat": 4,
 "nbformat_minor": 2
}
